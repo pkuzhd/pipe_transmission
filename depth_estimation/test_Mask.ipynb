{
 "cells": [
  {
   "cell_type": "markdown",
   "metadata": {},
   "source": [
    "system mask 部分完整代码"
   ]
  },
  {
   "cell_type": "code",
   "execution_count": 9,
   "metadata": {},
   "outputs": [],
   "source": [
    "import os\n",
    "\n",
    "import torch\n",
    "import cv2\n",
    "import matplotlib.pyplot as plt\n",
    "import numpy as np\n",
    "from PIL import Image\n",
    "from torchvision.transforms.functional import to_tensor, to_pil_image"
   ]
  },
  {
   "cell_type": "code",
   "execution_count": 4,
   "metadata": {},
   "outputs": [],
   "source": [
    "from torch import unsqueeze\n",
    "\n",
    "\n",
    "class Matting_forMask():\n",
    "    def __init__(self, vision_num = 5):\n",
    "        # self.num_vision = vision_num\n",
    "        self.model = torch.jit.load('/home/wph/BackgroundMatting/TorchScript/torchscript_resnet50_fp32.pth').eval().cuda()\n",
    "        \n",
    "\n",
    "    def get_group_masks(self, src_tensor, bgr_tensor):\n",
    "        print(src_tensor.dtype)\n",
    "        pha = self.model(src_tensor, bgr_tensor)[0]\n",
    "        \n",
    "        # for i in range(5):\n",
    "        #     src = src_tensor[i, :, :, :].unsqueeze(0)\n",
    "        #     bgr = bgr_tensor[i, :, :, :].unsqueeze(0)\n",
    "        #     print(src.dtype)\n",
    "        #     pha = self.model(src, bgr)[0]\n",
    "        #     print(pha.shape)\n",
    "        #     phas.append(pha[0])\n",
    "        \n",
    "        # phas = torch.tensor(phas)\n",
    "        return pha\n"
   ]
  },
  {
   "cell_type": "code",
   "execution_count": 6,
   "metadata": {},
   "outputs": [],
   "source": [
    "imgs_list = [cv2.cvtColor(cv2.imread(f\"../test_data/{i+1}.fg.jpg\"), cv2.COLOR_BGR2RGB) for i in range(5)]\n",
    "bgrs_list = [cv2.cvtColor(cv2.imread(f\"../test_data/{i+1}.jpg\"), cv2.COLOR_BGR2RGB) for i in range(5)]\n",
    "\n",
    "# imgs_list = [cv2.imread(f\"../test_data/{i+1}.fg.jpg\") for i in range(5)]\n",
    "# bgrs_list = [cv2.imread(f\"../test_data/{i+1}.jpg\") for i in range(5)]\n",
    "\n",
    "imgs = np.stack(imgs_list, axis=0)\n",
    "bgrs = np.stack(bgrs_list, axis=0)\n",
    "\n",
    "imgs_tensor = torch.tensor(imgs).permute(0,3,1,2).float()\n",
    "imgs_tensor = (imgs_tensor/255).cuda()\n",
    "bgrs_tensor = torch.tensor(bgrs).permute(0,3,1,2)\n",
    "bgrs_tensor = (bgrs_tensor/255).float().cuda()"
   ]
  },
  {
   "cell_type": "code",
   "execution_count": 7,
   "metadata": {},
   "outputs": [
    {
     "data": {
      "text/plain": [
       "[(1380, 1736, 1688, 384),\n",
       " (1168, 1564, 1764, 412),\n",
       " (1180, 1560, 1592, 592),\n",
       " (1496, 1836, 1224, 512),\n",
       " (1244, 1668, 1196, 420)]"
      ]
     },
     "execution_count": 7,
     "metadata": {},
     "output_type": "execute_result"
    }
   ],
   "source": [
    "# test get_fore_rect\n",
    "\n",
    "def get_fore_rect(back, src):\n",
    "    fgbg = cv2.createBackgroundSubtractorMOG2(history=1, varThreshold=100, detectShadows=False)\n",
    "    \n",
    "    # get the front mask\n",
    "    mask = fgbg.apply(back)\n",
    "    mask = fgbg.apply(src)\n",
    "\n",
    "    # eliminate the noise\n",
    "    # line = cv2.getStructuringElement(cv2.MORPH_RECT, (1, 5), (-1, -1))\n",
    "    # mask = cv2.morphologyEx(mask, cv2.MORPH_OPEN, line)\n",
    "\n",
    "    max_area = -1\n",
    "    max_rect = None\n",
    "    # find the max area contours\n",
    "    contours, hierarchy = cv2.findContours(mask, cv2.RETR_EXTERNAL, cv2.CHAIN_APPROX_SIMPLE)\n",
    "\n",
    "    for c in range(len(contours)):\n",
    "        area = cv2.contourArea(contours[c])\n",
    "        if area < 150:\n",
    "            continue\n",
    "        rect = cv2.minAreaRect(contours[c])\n",
    "\n",
    "        if area > max_area:\n",
    "            max_area = area\n",
    "            max_rect = rect\n",
    "\n",
    "    box = cv2.boxPoints(max_rect)\n",
    "    max_x, min_x = np.max(box[:,0]), np.min(box[:,0])\n",
    "    max_y, min_y = np.max(box[:,1]), np.min(box[:,1])\n",
    "    box = np.array([[min_x, max_y],[min_x, min_y],[max_x, min_y],[max_x, max_y]])\n",
    "    box = np.int0(box)\n",
    "\n",
    "    # min_row = int(box[1][1]/4) *4\n",
    "    # max_row = int((box[0][1]+3)/4) *4\n",
    "    # min_col = int(box[0][0]/4) *4\n",
    "    # max_col = int((box[2][0]+3)/4) *4\n",
    "\n",
    "    max_x, max_y = int((max_x+3)/4) *4, int((max_y+3)/4) *4\n",
    "    min_x, min_y = int(min_x/4) *4, int(min_y/4) *4\n",
    "\n",
    "    w = max_x - min_x\n",
    "    h = max_y - min_y\n",
    "\n",
    "    return (w, h, min_x, min_y)\n",
    "\n",
    "crops = [get_fore_rect(imgs_list[i], bgrs_list[i]) for i in range(5)]\n",
    "crops"
   ]
  },
  {
   "cell_type": "code",
   "execution_count": 16,
   "metadata": {},
   "outputs": [
    {
     "name": "stdout",
     "output_type": "stream",
     "text": [
      "torch.float32\n"
     ]
    }
   ],
   "source": [
    "matting = Matting_forMask()\n",
    "pha = matting.get_group_masks(imgs_tensor, bgrs_tensor)"
   ]
  },
  {
   "cell_type": "code",
   "execution_count": 18,
   "metadata": {},
   "outputs": [
    {
     "name": "stdout",
     "output_type": "stream",
     "text": [
      "pha_np (5, 1, 2160, 3840)\n"
     ]
    }
   ],
   "source": [
    "def get_masks(pha):\n",
    "    masks = []\n",
    "    # pha_np = []\n",
    "    # for i in range(5):\n",
    "    #     pha_np.append(pha[i].to(torch.device('cpu')).numpy())\n",
    "\n",
    "    pha_np = pha.to(torch.device('cpu')).numpy()\n",
    "    print(\"pha_np\", pha_np.shape)\n",
    "\n",
    "    for i in range(5):\n",
    "        mask_np = np.transpose(pha_np[i], (1,2,0))\n",
    "        mask = np.uint8(mask_np*255)\n",
    "        masks.append(mask)\n",
    "        # cv2.imwrite(f'./test_results/test_mask{i+1}.png', np.uint8(mask_np*255))\n",
    "        # mask_output = cv2.cvtColor(np.uint8(mask_np*255), cv2.COLOR_BGR2RGB)\n",
    "        # mask = np.uint8(mask_np*255)\n",
    "        # masks.append(mask_output[:,:,0])\n",
    "    \n",
    "    return masks\n",
    "\n",
    "masks = get_masks(pha)"
   ]
  },
  {
   "cell_type": "code",
   "execution_count": 19,
   "metadata": {},
   "outputs": [],
   "source": [
    "for i in range(5):\n",
    "    cv2.imwrite(f'./test_results/test_float_mask{i+1}.png', masks[i])"
   ]
  },
  {
   "cell_type": "code",
   "execution_count": 20,
   "metadata": {},
   "outputs": [
    {
     "name": "stdout",
     "output_type": "stream",
     "text": [
      "same\n"
     ]
    }
   ],
   "source": [
    "float_mask = cv2.imread('./test_results/test_float_mask1.png')\n",
    "mask = cv2.imread('./test_results/test_mask1.png')\n",
    "\n",
    "for i in range(mask.shape[0]):\n",
    "    for j in range(mask.shape[1]):\n",
    "        for k in range(3):\n",
    "            if float_mask[i][j][k] != mask[i][j][k]: \n",
    "                print(\"different\")\n",
    "\n",
    "print(\"same\")"
   ]
  },
  {
   "cell_type": "code",
   "execution_count": 11,
   "metadata": {},
   "outputs": [
    {
     "name": "stdout",
     "output_type": "stream",
     "text": [
      "(672, 384, 3)\n",
      "(672, 384, 3)\n",
      "(672, 384, 3)\n",
      "(672, 384, 3)\n",
      "(672, 384, 3)\n"
     ]
    }
   ],
   "source": [
    "imgs = [cv2.imread(f\"/data/FastMVSNet/lab/Rectified/scan1/rect_00{i+1}_3_r5000.png\") for i in range(5)]\n",
    "for img in imgs:\n",
    "    print(img.shape)"
   ]
  }
 ],
 "metadata": {
  "kernelspec": {
   "display_name": "Python 3.8.5 ('wph_env': conda)",
   "language": "python",
   "name": "python3"
  },
  "language_info": {
   "codemirror_mode": {
    "name": "ipython",
    "version": 3
   },
   "file_extension": ".py",
   "mimetype": "text/x-python",
   "name": "python",
   "nbconvert_exporter": "python",
   "pygments_lexer": "ipython3",
   "version": "3.8.5"
  },
  "orig_nbformat": 4,
  "vscode": {
   "interpreter": {
    "hash": "baf603f8a180670239676aefb156b74226652b3404743de0275e87175eead617"
   }
  }
 },
 "nbformat": 4,
 "nbformat_minor": 2
}
